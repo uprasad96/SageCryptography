{
 "cells": [
  {
   "cell_type": "code",
   "execution_count": 1,
   "metadata": {},
   "outputs": [],
   "source": [
    "def ModExp(x, e, N):\n",
    "    \"\"\"\n",
    "    Calculates x^e mod N using square and multiply.\n",
    "    \n",
    "    Input:\n",
    "        x - an integer\n",
    "        e - a non-negative integer\n",
    "        N - a positive integer modulus\n",
    "        \n",
    "    Output:\n",
    "        y - x^e mod N\n",
    "    \"\"\"\n",
    "    e_bits = e.bits()\n",
    "    e_bitlen = len(e_bits)\n",
    "    \n",
    "    y = 1\n",
    "    \n",
    "    for j in xrange(e_bitlen):\n",
    "        y = y^2 % N\n",
    "        if e_bits[e_bitlen-1-j] == 1:\n",
    "            y = x*y % N\n",
    "    return y"
   ]
  },
  {
   "cell_type": "code",
   "execution_count": 2,
   "metadata": {},
   "outputs": [
    {
     "name": "stdout",
     "output_type": "stream",
     "text": [
      "26\n"
     ]
    }
   ],
   "source": [
    "print(ModExp(5,13,77))"
   ]
  },
  {
   "cell_type": "code",
   "execution_count": 3,
   "metadata": {},
   "outputs": [
    {
     "name": "stdout",
     "output_type": "stream",
     "text": [
      "5\n"
     ]
    }
   ],
   "source": [
    "print(ModExp(26,37,77))"
   ]
  },
  {
   "cell_type": "code",
   "execution_count": 4,
   "metadata": {},
   "outputs": [
    {
     "data": {
      "text/plain": [
       "26"
      ]
     },
     "execution_count": 4,
     "metadata": {},
     "output_type": "execute_result"
    }
   ],
   "source": [
    "R = IntegerModRing(77)\n",
    "x = R(5)\n",
    "x^13"
   ]
  },
  {
   "cell_type": "code",
   "execution_count": 5,
   "metadata": {},
   "outputs": [
    {
     "data": {
      "text/plain": [
       "5"
      ]
     },
     "execution_count": 5,
     "metadata": {},
     "output_type": "execute_result"
    }
   ],
   "source": [
    "R = IntegerModRing(77)\n",
    "x = R(26)\n",
    "x^37"
   ]
  },
  {
   "cell_type": "code",
   "execution_count": 6,
   "metadata": {},
   "outputs": [
    {
     "data": {
      "text/plain": [
       "91"
      ]
     },
     "execution_count": 6,
     "metadata": {},
     "output_type": "execute_result"
    }
   ],
   "source": [
    "R = IntegerModRing(101)\n",
    "x = R(10)\n",
    "x^99"
   ]
  }
 ],
 "metadata": {
  "kernelspec": {
   "display_name": "SageMath 8.2",
   "language": "",
   "name": "sagemath"
  },
  "language_info": {
   "codemirror_mode": {
    "name": "ipython",
    "version": 2
   },
   "file_extension": ".py",
   "mimetype": "text/x-python",
   "name": "python",
   "nbconvert_exporter": "python",
   "pygments_lexer": "ipython2",
   "version": "2.7.14"
  }
 },
 "nbformat": 4,
 "nbformat_minor": 2
}
