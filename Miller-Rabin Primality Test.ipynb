{
 "cells": [
  {
   "cell_type": "code",
   "execution_count": 3,
   "metadata": {},
   "outputs": [],
   "source": [
    "def MILLER_RABIN_TEST(n):\n",
    "    \"\"\"\n",
    "    This function implements the Miller_Rabin Test. It either returns\n",
    "    \"inconclusive\" or \"composite\".\n",
    "    \n",
    "    Input:\n",
    "        n - positive integer to probabilistically determine the primality of.\n",
    "    \n",
    "    Output:\n",
    "        If the function returns False, then the test was inconclusive.\n",
    "        If the function returns True, then the test was conclusive and n is composite.\n",
    "    \"\"\"\n",
    "    \n",
    "    R = IntegerModRing(n) #Object for integers mod n\n",
    "    \n",
    "    # 1. Find integers k, q such that w/k > 0 and q odd so that (n-1) == 2^k * q\n",
    "    q = n-1\n",
    "    k = 0\n",
    "    while (q %2) == 1:\n",
    "        k += 1\n",
    "        q = q.quo_rem(2)[0] # q/2 but with integer result\n",
    "        \n",
    "    # 2. Select random a in 1 < a < n-1\n",
    "    a = randint(1, n-1)\n",
    "    a = R(a) # makes it so modular exponentiation is done fast\n",
    "    # if a^q mod n == 1 then return inconclusive\n",
    "    if (a^q == 1):\n",
    "        return False\n",
    "    \n",
    "    # 3. for j = 0 to k-1 do : if a^(2^j *q) mod n = n-1 return inconclusive\n",
    "    \n",
    "    e = q\n",
    "    for j in xrange(k):\n",
    "        if (a^e) == (n-1):\n",
    "            return False\n",
    "        e = 2*e\n",
    "        \n",
    "    # 4. if you have made it here return composite.\n",
    "    return True"
   ]
  },
  {
   "cell_type": "code",
   "execution_count": 4,
   "metadata": {},
   "outputs": [
    {
     "data": {
      "text/plain": [
       "True"
      ]
     },
     "execution_count": 4,
     "metadata": {},
     "output_type": "execute_result"
    }
   ],
   "source": [
    "MILLER_RABIN_TEST(592701729979)"
   ]
  },
  {
   "cell_type": "code",
   "execution_count": 5,
   "metadata": {},
   "outputs": [
    {
     "data": {
      "text/plain": [
       "False"
      ]
     },
     "execution_count": 5,
     "metadata": {},
     "output_type": "execute_result"
    }
   ],
   "source": [
    "MILLER_RABIN_TEST(101)"
   ]
  }
 ],
 "metadata": {
  "kernelspec": {
   "display_name": "SageMath 8.2",
   "language": "",
   "name": "sagemath"
  },
  "language_info": {
   "codemirror_mode": {
    "name": "ipython",
    "version": 2
   },
   "file_extension": ".py",
   "mimetype": "text/x-python",
   "name": "python",
   "nbconvert_exporter": "python",
   "pygments_lexer": "ipython2",
   "version": "2.7.14"
  }
 },
 "nbformat": 4,
 "nbformat_minor": 2
}
