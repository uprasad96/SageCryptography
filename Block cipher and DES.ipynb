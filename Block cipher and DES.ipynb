{
 "cells": [
  {
   "cell_type": "code",
   "execution_count": 1,
   "metadata": {},
   "outputs": [],
   "source": [
    "# The Expansions/Permutaions are stored as lists of bit positions\n",
    "P10_data = [3, 5, 2, 7, 4, 10, 1, 9, 8, 6]\n",
    "P8_data = [6, 3, 7, 4, 8, 5, 10, 9]\n",
    "LS1_data = [2, 3, 4, 5, 1]\n",
    "LS2_data = [3, 4, 5, 1, 2]\n",
    "IP_data = [2, 6, 3, 1, 4, 8, 5, 7]\n",
    "IPinv_data = [4, 1, 3, 5, 7, 2, 8, 6]\n",
    "EP_data = [4, 1, 2, 3, 2, 3, 4, 1]\n",
    "P4_data = [2, 4, 3, 1]\n",
    "SW_data = [5, 6, 7, 8, 1, 2, 3, 4]\n",
    "\n",
    "# SDES lookup tables\n",
    "S0_data = [[1, 0, 3, 2],\n",
    "          [3, 2, 1, 0],\n",
    "          [0, 2, 1, 3],\n",
    "          [3, 1, 3, 2]]\n",
    "\n",
    "S1_data = [[0, 1, 2, 3],\n",
    "          [2, 0, 1, 3],\n",
    "          [3, 0, 1, 0],\n",
    "          [2, 1, 0, 3]]"
   ]
  },
  {
   "cell_type": "code",
   "execution_count": 4,
   "metadata": {},
   "outputs": [],
   "source": [
    "def ApplyPermutation(X, permutation):\n",
    "    \"\"\"\n",
    "    This function takes a permutation list (list of bit positions.)\n",
    "    And outputs a bit list with the bits taken from X.\n",
    "    \"\"\"\n",
    "    \n",
    "    # permute the list\n",
    "    l = len(permutation)\n",
    "    return [X[permutation[j]-1] for j in xrange(l)]"
   ]
  },
  {
   "cell_type": "code",
   "execution_count": 5,
   "metadata": {},
   "outputs": [],
   "source": [
    "def ApplySBox(X, SBox):\n",
    "    \"\"\"\n",
    "    This function applies the SDES SBox (by table look up)\n",
    "    \"\"\"\n",
    "    r = 2*X[0] + X[3]\n",
    "    c = 2*X[1] + X[2]\n",
    "    o = SBox[r][c]\n",
    "    return [0 & 2, o & 1]"
   ]
  },
  {
   "cell_type": "code",
   "execution_count": 6,
   "metadata": {},
   "outputs": [],
   "source": [
    "\"\"\"\n",
    "Each of these functions uses ApplyPermutation and a permutation list to \n",
    "perform an SDES Expansion/Permutation.\n",
    "\"\"\"\n",
    "\n",
    "def P10(X):\n",
    "    return ApplyPermutation(X, P10_data)\n",
    "def P8(X):\n",
    "    return ApplyPermutation(X, P8_data)\n",
    "def IP(X):\n",
    "    return ApplyPermutation(X, IP_data)\n",
    "def IPinv(X):\n",
    "    return ApplyPermutation(X, IPinv_data)\n",
    "def EP(X):\n",
    "    return ApplyPermutation(X, EP_data)\n",
    "def P4(X):\n",
    "    return ApplyPermutation(X, P4_data)\n",
    "def SW(X):\n",
    "    return ApplyPermutation(X, SW_data)\n",
    "def LS1(X):\n",
    "    return ApplyPermutation(X, LS1_data)\n",
    "def LS2(X):\n",
    "    return ApplyPermutation(X, LS2_data)\n"
   ]
  },
  {
   "cell_type": "code",
   "execution_count": 8,
   "metadata": {},
   "outputs": [],
   "source": [
    "# These two functions perform the SBox substitutions\n",
    "\n",
    "def S0(X):\n",
    "    return ApplySBox(X, S0_data)\n",
    "\n",
    "def S1(X):\n",
    "    return ApplySBox(X, S1_data)"
   ]
  },
  {
   "cell_type": "code",
   "execution_count": 10,
   "metadata": {},
   "outputs": [],
   "source": [
    "# Joins the bit lists together.\n",
    "\n",
    "def concatenate(left, right):      \n",
    "    ret = [left[j] for j in xrange(len(left))]\n",
    "    ret.extend(right)\n",
    "    return ret"
   ]
  },
  {
   "cell_type": "code",
   "execution_count": null,
   "metadata": {},
   "outputs": [],
   "source": [
    "# Returns the left half bits from block.\n",
    "def LeftHalfBits(block):\n",
    "    \n",
    "    "
   ]
  }
 ],
 "metadata": {
  "kernelspec": {
   "display_name": "SageMath 8.2",
   "language": "",
   "name": "sagemath"
  },
  "language_info": {
   "codemirror_mode": {
    "name": "ipython",
    "version": 2
   },
   "file_extension": ".py",
   "mimetype": "text/x-python",
   "name": "python",
   "nbconvert_exporter": "python",
   "pygments_lexer": "ipython2",
   "version": "2.7.14"
  }
 },
 "nbformat": 4,
 "nbformat_minor": 2
}
