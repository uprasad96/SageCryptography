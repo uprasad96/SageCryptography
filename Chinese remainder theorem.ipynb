{
 "cells": [
  {
   "cell_type": "code",
   "execution_count": 1,
   "metadata": {},
   "outputs": [],
   "source": [
    "def chinese_remainder_theorem(moduli, residues):\n",
    "    \"\"\"\n",
    "    Function that implements the chinese remainder theorem.\n",
    "    Input:\n",
    "        moduli - list of positive integers.\n",
    "        residues - list of remainders such that remainder at position i results when divided by the corresponding\n",
    "        modulus at position i in moduli.\n",
    "        \n",
    "    Output:\n",
    "        x - integer such that division by moduli[i] gives remainder residue[i].\n",
    "    \"\"\"\n",
    "    if (len(moduli) != len(residues)):\n",
    "        raise ValueError, \"expected len(moduli) == len(residues)\"\n",
    "    \n",
    "    M = prod(moduli)\n",
    "    x = 0\n",
    "    \n",
    "    for j in xrange(len(moduli)):\n",
    "        Mj = moduli[j]\n",
    "        Mpr = M/Mj\n",
    "        \n",
    "        (Mj_Mpr_gcd, Mpr_inv, Mj_inv) = xgcd(Mpr, Mj)\n",
    "        Mpr_inv = Mpr_inv\n",
    "        if (Mj_Mpr_gcd != 1):\n",
    "            raise ValueError, \"Expected all moduli are coprime.\"\n",
    "            \n",
    "        x += residues[j]*Mpr*Mpr_inv\n",
    "    \n",
    "    return x"
   ]
  },
  {
   "cell_type": "code",
   "execution_count": 2,
   "metadata": {},
   "outputs": [
    {
     "data": {
      "text/plain": [
       "52"
      ]
     },
     "execution_count": 2,
     "metadata": {},
     "output_type": "execute_result"
    }
   ],
   "source": [
    "moduli = [3,5,7]\n",
    "residues = [1,2,3]\n",
    "chinese_remainder_theorem(moduli,residues)"
   ]
  },
  {
   "cell_type": "code",
   "execution_count": 3,
   "metadata": {},
   "outputs": [
    {
     "data": {
      "text/plain": [
       "52"
      ]
     },
     "execution_count": 3,
     "metadata": {},
     "output_type": "execute_result"
    }
   ],
   "source": [
    "CRT_list(residues, moduli)"
   ]
  },
  {
   "cell_type": "code",
   "execution_count": 4,
   "metadata": {},
   "outputs": [
    {
     "data": {
      "text/plain": [
       "-3120"
      ]
     },
     "execution_count": 4,
     "metadata": {},
     "output_type": "execute_result"
    }
   ],
   "source": [
    "moduli = [17,49]\n",
    "residues = [8,16]\n",
    "chinese_remainder_theorem(moduli,residues)"
   ]
  },
  {
   "cell_type": "code",
   "execution_count": 5,
   "metadata": {},
   "outputs": [
    {
     "data": {
      "text/plain": [
       "212"
      ]
     },
     "execution_count": 5,
     "metadata": {},
     "output_type": "execute_result"
    }
   ],
   "source": [
    "CRT_list(residues, moduli)"
   ]
  },
  {
   "cell_type": "code",
   "execution_count": 6,
   "metadata": {},
   "outputs": [
    {
     "data": {
      "text/plain": [
       "-62166"
      ]
     },
     "execution_count": 6,
     "metadata": {},
     "output_type": "execute_result"
    }
   ],
   "source": [
    "moduli = [101,127]\n",
    "residues = [50,64]\n",
    "chinese_remainder_theorem(moduli,residues)"
   ]
  },
  {
   "cell_type": "code",
   "execution_count": 7,
   "metadata": {},
   "outputs": [
    {
     "data": {
      "text/plain": [
       "1969"
      ]
     },
     "execution_count": 7,
     "metadata": {},
     "output_type": "execute_result"
    }
   ],
   "source": [
    "CRT_list(residues, moduli)"
   ]
  }
 ],
 "metadata": {
  "kernelspec": {
   "display_name": "SageMath 8.2",
   "language": "",
   "name": "sagemath"
  },
  "language_info": {
   "codemirror_mode": {
    "name": "ipython",
    "version": 2
   },
   "file_extension": ".py",
   "mimetype": "text/x-python",
   "name": "python",
   "nbconvert_exporter": "python",
   "pygments_lexer": "ipython2",
   "version": "2.7.14"
  }
 },
 "nbformat": 4,
 "nbformat_minor": 2
}
